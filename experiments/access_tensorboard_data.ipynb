{
 "cells": [
  {
   "cell_type": "code",
   "execution_count": 36,
   "id": "583ed451",
   "metadata": {},
   "outputs": [
    {
     "name": "stdout",
     "output_type": "stream",
     "text": [
      "ERROR! Session/line number was not unique in database. History logging moved to new session 130\n"
     ]
    }
   ],
   "source": [
    "import tensorflow as tf\n",
    "import os\n",
    "import matplotlib.pyplot as plt\n",
    "from tensorboard.backend.event_processing.event_accumulator import EventAccumulator\n",
    "import glob\n",
    "import pandas as pd\n",
    "import numpy as np\n",
    "import math\n",
    "from scipy.stats import ttest_rel, wilcoxon\n"
   ]
  },
  {
   "cell_type": "code",
   "execution_count": 37,
   "id": "d5750c64",
   "metadata": {},
   "outputs": [],
   "source": [
    "\n",
    "class FalseDict(object):\n",
    "    def __getitem__(self,key):\n",
    "        return 0\n",
    "    def __contains__(self, key):\n",
    "        return True"
   ]
  },
  {
   "cell_type": "code",
   "execution_count": 38,
   "id": "22ee2c9a",
   "metadata": {},
   "outputs": [],
   "source": [
    "def get_tensorboard_data(file_name, num_ids): \n",
    "    \n",
    "    # container\n",
    "    d = {\n",
    "    'w_times':[],\n",
    "    'step_nums':[],\n",
    "    'vals':[]\n",
    "    }\n",
    "        \n",
    "    # get tensorboard data\n",
    "    event_acc = EventAccumulator(latest_file,\n",
    "                                size_guidance=FalseDict())\n",
    "    event_acc.Reload()\n",
    "    w_times, step_nums, vals  = zip(*event_acc.Scalars('Perf/Reward'))\n",
    "\n",
    "    d['w_times'] = w_times\n",
    "    d['step_nums'] = step_nums\n",
    "    d['vals'] = vals        \n",
    "    \n",
    "    return d"
   ]
  },
  {
   "cell_type": "code",
   "execution_count": 4,
   "id": "d724941a",
   "metadata": {},
   "outputs": [],
   "source": [
    "#move up in directory\n",
    "os.chdir('../tensorboard')"
   ]
  },
  {
   "cell_type": "code",
   "execution_count": 39,
   "id": "a25f4ac9",
   "metadata": {},
   "outputs": [
    {
     "data": {
      "text/plain": [
       "'C:\\\\Users\\\\deniz\\\\Desktop\\\\PhD\\\\p1_generalization\\\\tensorboard'"
      ]
     },
     "execution_count": 39,
     "metadata": {},
     "output_type": "execute_result"
    }
   ],
   "source": [
    "os.getcwd()"
   ]
  },
  {
   "cell_type": "code",
   "execution_count": 43,
   "id": "5e4f1cc0",
   "metadata": {},
   "outputs": [],
   "source": [
    "# CONFIG\n",
    "#'lstm2_a2c_nh_48_lr_0_0001_n_u_p_0_5_ew_0_vw_0_5_dr_0_5_res_d_f_p_0_1_rt_con_a_4_n_300_te_50000_id_{}'\n",
    "lstm_file_name = '{}_{}_nh_48_lr_0_0001_{}_ew_{}_vw_0_5_dr_0_5_res_d_f_p_0_1_rt_con_a_4_n_300_te_50000_id_{}'\n",
    "\n",
    "\n",
    "num_ids = 30\n",
    "\n",
    "cell_type = ['lstm', 'rnn']\n",
    "noise = ['n_u_p_0_5', 'n_n_p_0']\n",
    "entropy = ['0','0_05','lin']\n",
    "algorithm = ['rei','a2c']\n",
    "\n",
    "low_episode = 49499\n",
    "high_episode = 49999\n"
   ]
  },
  {
   "cell_type": "code",
   "execution_count": null,
   "id": "8e7b4ea0",
   "metadata": {
    "scrolled": true
   },
   "outputs": [
    {
     "name": "stdout",
     "output_type": "stream",
     "text": [
      "##############################\n",
      "CELL: lstm2;NOISE: n_u_p_0_5;ENTROPY: 0; ALG: rei, ID: 29\n",
      "MEAN 49500: 54.206827036539714, MEAN 50000: 53.81968002319336, PVAL: 0.35103844946987284\n",
      "##############################\n",
      "##############################\n",
      "CELL: lstm2;NOISE: n_u_p_0_5;ENTROPY: 0; ALG: a2c, ID: 29\n",
      "MEAN 49500: 53.89799525819976, MEAN 50000: 53.78026422961005, PVAL: 0.7769508522411683\n",
      "##############################\n",
      "##############################\n",
      "CELL: lstm2;NOISE: n_u_p_0_5;ENTROPY: 0_05; ALG: rei, ID: 29\n",
      "MEAN 49500: 54.701253509521486, MEAN 50000: 54.907131067911784, PVAL: 0.5813524041341016\n",
      "##############################\n",
      "##############################\n",
      "CELL: lstm2;NOISE: n_u_p_0_5;ENTROPY: 0_05; ALG: a2c, ID: 29\n",
      "MEAN 49500: 53.882306798299155, MEAN 50000: 54.09189008076986, PVAL: 0.6076940472219289\n",
      "##############################\n",
      "##############################\n",
      "CELL: lstm2;NOISE: n_u_p_0_5;ENTROPY: lin; ALG: rei, ID: 29\n",
      "MEAN 49500: 52.10231437683105, MEAN 50000: 51.48919359842936, PVAL: 0.1684865741187209\n",
      "##############################\n",
      "##############################\n",
      "CELL: lstm2;NOISE: n_u_p_0_5;ENTROPY: lin; ALG: a2c, ID: 29\n",
      "MEAN 49500: 51.59017066955566, MEAN 50000: 51.52196273803711, PVAL: 0.8259286180074947\n",
      "##############################\n",
      "##############################\n",
      "CELL: lstm;NOISE: n_n_p_0;ENTROPY: 0; ALG: rei, ID: 29\n",
      "MEAN 49500: 134.58492050170898, MEAN 50000: 134.58892211914062, PVAL: 0.9863318030213182\n",
      "##############################\n",
      "##############################\n",
      "CELL: lstm;NOISE: n_n_p_0;ENTROPY: 0; ALG: a2c, ID: 29\n",
      "MEAN 49500: 93.28760223388672, MEAN 50000: 93.19277928670247, PVAL: 0.7655949118989896\n",
      "##############################\n",
      "##############################\n",
      "CELL: lstm;NOISE: n_n_p_0;ENTROPY: 0_05; ALG: rei, ID: 29\n",
      "MEAN 49500: 135.06154123942056, MEAN 50000: 134.9962605794271, PVAL: 0.820689166318463\n",
      "##############################\n",
      "##############################\n",
      "CELL: lstm;NOISE: n_n_p_0;ENTROPY: 0_05; ALG: a2c, ID: 29\n",
      "MEAN 49500: 134.62108561197917, MEAN 50000: 134.49707158406576, PVAL: 0.6083492735950653\n",
      "##############################\n"
     ]
    }
   ],
   "source": [
    "file_name = lstm_file_name\n",
    "\n",
    "\n",
    "\n",
    "for c in cell_type:\n",
    "    for n in noise:\n",
    "        for e in entropy: \n",
    "            for a in algorithm:\n",
    "                \n",
    "                d1 = []\n",
    "                d2 = []\n",
    "                \n",
    "                for id_ in range(num_ids):\n",
    "                \n",
    "                    if c == 'lstm' and n == 'n_u_p_0_5':\n",
    "                        c = 'lstm2'\n",
    "                    \n",
    "                    if c == 'lstm2' and n == 'n_n_p_0':\n",
    "                        c = 'lstm'\n",
    "                    \n",
    "                        \n",
    "                    list_of_files = glob.glob(os.path.join(file_name.format(c, a, n, e, id_), '*')) # * means all if need specific format then *.csv\n",
    "                    latest_file = max(list_of_files, key=os.path.getctime)\n",
    "                                        \n",
    "                    lstm_data = get_tensorboard_data(lstm_file_name, num_ids)\n",
    "                    \n",
    "                    lstm_df = pd.DataFrame(lstm_data)\n",
    "                    #lstm_means = lstm_df.groupby('step_nums').mean().vals\n",
    "                    \n",
    "                    d1.extend(lstm_df.loc[lstm_df['step_nums']==low_episode].vals.to_numpy())\n",
    "                    d2.extend(lstm_df.loc[lstm_df['step_nums']==high_episode].vals.to_numpy())\n",
    "\n",
    "                # ttest dependant\n",
    "                pval = ttest_rel(d1,d2).pvalue\n",
    "\n",
    "                print('##############################')\n",
    "\n",
    "                print('CELL: {};NOISE: {};ENTROPY: {}; ALG: {}, ID: {}'.format(c,n,e,a,id_))\n",
    "                print('MEAN {}: {}, MEAN {}: {}, PVAL: {}'.format(low_episode + 1, np.mean(d1),\n",
    "                                                                  high_episode + 1, np.mean(d2),\n",
    "                                                                  pval))\n",
    "                print('##############################')\n",
    "\n",
    "                    \n",
    "                    \n",
    "                    \n",
    "                \n",
    "                \n",
    "                \n",
    "                "
   ]
  },
  {
   "cell_type": "code",
   "execution_count": 31,
   "id": "8cc41d21",
   "metadata": {},
   "outputs": [
    {
     "data": {
      "text/plain": [
       "52.21175003051758"
      ]
     },
     "execution_count": 31,
     "metadata": {},
     "output_type": "execute_result"
    }
   ],
   "source": []
  },
  {
   "cell_type": "code",
   "execution_count": 29,
   "id": "556afd87",
   "metadata": {},
   "outputs": [
    {
     "data": {
      "text/plain": [
       "[<matplotlib.lines.Line2D at 0x28c2b093a90>]"
      ]
     },
     "execution_count": 29,
     "metadata": {},
     "output_type": "execute_result"
    },
    {
     "data": {
      "image/png": "[encoded data removed]",
      "text/plain": [
       "<Figure size 640x480 with 1 Axes>"
      ]
     },
     "metadata": {},
     "output_type": "display_data"
    }
   ],
   "source": [
    "plt.plot(lstm_data['vals'])"
   ]
  },
  {
   "cell_type": "code",
   "execution_count": 10,
   "id": "80f213c7",
   "metadata": {},
   "outputs": [],
   "source": [
    "lstm_data = get_tensorboard_data(lstm_file_name, num_ids)\n",
    "lstm_df = pd.DataFrame(lstm_data)\n",
    "lstm_means = lstm_df.groupby('step_nums').mean().vals"
   ]
  },
  {
   "cell_type": "code",
   "execution_count": 11,
   "id": "3551e2b5",
   "metadata": {},
   "outputs": [
    {
     "name": "stdout",
     "output_type": "stream",
     "text": [
      "mean reward 49000: 43.055484771728516\n",
      "mean reward 50000: 45.443687438964844\n"
     ]
    },
    {
     "name": "stderr",
     "output_type": "stream",
     "text": [
      "C:\\Users\\deniz\\AppData\\Local\\anaconda3\\envs\\rnn\\lib\\site-packages\\numpy\\core\\fromnumeric.py:3622: RuntimeWarning: Degrees of freedom <= 0 for slice\n",
      "  **kwargs)\n",
      "C:\\Users\\deniz\\AppData\\Local\\anaconda3\\envs\\rnn\\lib\\site-packages\\numpy\\core\\_methods.py:226: RuntimeWarning: invalid value encountered in double_scalars\n",
      "  ret = ret.dtype.type(ret / rcount)\n"
     ]
    }
   ],
   "source": [
    "a = lstm_df.loc[lstm_df['step_nums']==low_episode].vals.to_numpy()\n",
    "b = lstm_df.loc[lstm_df['step_nums']==high_episode].vals.to_numpy()\n",
    "\n",
    "# ttest dependant\n",
    "ttest_rel(a,b).pvalue\n",
    "\n",
    "# means\n",
    "print('mean reward {}: {}'.format(low_episode + 1, np.mean(a)))\n",
    "print('mean reward {}: {}'.format(high_episode + 1, np.mean(b)))"
   ]
  },
  {
   "cell_type": "code",
   "execution_count": 12,
   "id": "f28c4567",
   "metadata": {},
   "outputs": [
    {
     "data": {
      "text/plain": [
       "array([45.44368744])"
      ]
     },
     "execution_count": 12,
     "metadata": {},
     "output_type": "execute_result"
    }
   ],
   "source": [
    "b"
   ]
  },
  {
   "cell_type": "code",
   "execution_count": null,
   "id": "aacc2a9e",
   "metadata": {},
   "outputs": [],
   "source": [
    "\n"
   ]
  },
  {
   "cell_type": "code",
   "execution_count": 13,
   "id": "050550e0",
   "metadata": {},
   "outputs": [],
   "source": [
    "# def smooth(scalars, weight):\n",
    "#     \"\"\"\n",
    "#     EMA implementation according to\n",
    "#     https://github.com/tensorflow/tensorboard/blob/34877f15153e1a2087316b9952c931807a122aa7/tensorboard/components/vz_line_chart2/line-chart.ts#L699\n",
    "#     \"\"\"\n",
    "#     last = 0\n",
    "#     smoothed = []\n",
    "#     num_acc = 0\n",
    "#     for next_val in scalars:\n",
    "#         last = last * weight + (1 - weight) * next_val\n",
    "#         num_acc += 1\n",
    "#         # de-bias\n",
    "#         debias_weight = 1\n",
    "#         if weight != 1:\n",
    "#             debias_weight = 1 - math.pow(weight, num_acc)\n",
    "#         smoothed_val = last / debias_weight\n",
    "#         smoothed.append(smoothed_val)\n",
    "\n",
    "#     return smoothed"
   ]
  },
  {
   "cell_type": "code",
   "execution_count": 14,
   "id": "66cc93f9",
   "metadata": {},
   "outputs": [],
   "source": [
    "#rnn_data = get_tensorboard_data(rnn_file_name, num_ids)\n",
    "lstm_data = get_tensorboard_data(lstm_file_name, num_ids)"
   ]
  },
  {
   "cell_type": "code",
   "execution_count": 15,
   "id": "502b67f0",
   "metadata": {},
   "outputs": [],
   "source": [
    "#rnn_df = pd.DataFrame(rnn_data)\n",
    "lstm_df = pd.DataFrame(lstm_data)\n",
    "\n",
    "#rnn_means = rnn_df.groupby('step_nums').mean().vals\n",
    "lstm_means = lstm_df.groupby('step_nums').mean().vals"
   ]
  },
  {
   "cell_type": "code",
   "execution_count": 16,
   "id": "dd576f1c",
   "metadata": {
    "scrolled": true
   },
   "outputs": [],
   "source": [
    "# #plt.plot(rnn_df.groupby('step_nums').mean().vals)\n",
    "# plt.plot(lstm_means)\n",
    "# plt.xlabel(\"Number of Episodes\")\n",
    "# plt.ylabel(\"Average Reward\")\n",
    "# plt.legend([\"RNN\", \"LSTM\"], loc =\"lower right\")\n",
    "# plt.savefig('../plots/training_loss_plot')"
   ]
  },
  {
   "cell_type": "markdown",
   "id": "c3fa4554",
   "metadata": {},
   "source": [
    "# Significance Testing"
   ]
  },
  {
   "cell_type": "code",
   "execution_count": 17,
   "id": "466e9988",
   "metadata": {},
   "outputs": [],
   "source": [
    "low_episode = 48999\n",
    "high_episode = 49999\n",
    "\n",
    "a = lstm_df.loc[lstm_df['step_nums']==low_episode].vals.to_numpy()\n",
    "b = lstm_df.loc[lstm_df['step_nums']==high_episode].vals.to_numpy()"
   ]
  },
  {
   "cell_type": "code",
   "execution_count": 18,
   "id": "722a7c5e",
   "metadata": {},
   "outputs": [
    {
     "name": "stderr",
     "output_type": "stream",
     "text": [
      "C:\\Users\\deniz\\AppData\\Local\\anaconda3\\envs\\rnn\\lib\\site-packages\\numpy\\core\\fromnumeric.py:3622: RuntimeWarning: Degrees of freedom <= 0 for slice\n",
      "  **kwargs)\n",
      "C:\\Users\\deniz\\AppData\\Local\\anaconda3\\envs\\rnn\\lib\\site-packages\\numpy\\core\\_methods.py:226: RuntimeWarning: invalid value encountered in double_scalars\n",
      "  ret = ret.dtype.type(ret / rcount)\n"
     ]
    },
    {
     "data": {
      "text/plain": [
       "Ttest_relResult(statistic=nan, pvalue=nan)"
      ]
     },
     "execution_count": 18,
     "metadata": {},
     "output_type": "execute_result"
    }
   ],
   "source": [
    "# ttest dependant\n",
    "ttest_rel(a,b)"
   ]
  },
  {
   "cell_type": "code",
   "execution_count": 19,
   "id": "606e018f",
   "metadata": {},
   "outputs": [
    {
     "data": {
      "text/plain": [
       "WilcoxonResult(statistic=0.0, pvalue=1.0)"
      ]
     },
     "execution_count": 19,
     "metadata": {},
     "output_type": "execute_result"
    }
   ],
   "source": [
    "# wilcoxon dependant\n",
    "wilcoxon(a,b)"
   ]
  },
  {
   "cell_type": "code",
   "execution_count": 20,
   "id": "1b8c5235",
   "metadata": {},
   "outputs": [
    {
     "name": "stdout",
     "output_type": "stream",
     "text": [
      "mean reward 49000: 43.055484771728516\n",
      "mean reward 50000: 45.443687438964844\n"
     ]
    }
   ],
   "source": [
    "# means\n",
    "print('mean reward {}: {}'.format(low_episode + 1, np.mean(a)))\n",
    "print('mean reward {}: {}'.format(high_episode + 1, np.mean(b)))"
   ]
  },
  {
   "cell_type": "code",
   "execution_count": 21,
   "id": "7f751f80",
   "metadata": {},
   "outputs": [],
   "source": [
    "# ttest_pval = []\n",
    "# wilc_pval = []\n",
    "\n",
    "# for episode in range(2, 50000):\n",
    "    \n",
    "#     low_episode = episode - 1\n",
    "#     high_episode = episode\n",
    "\n",
    "#     a = lstm_df.loc[lstm_df['step_nums']==low_episode].vals.to_numpy()\n",
    "#     b = lstm_df.loc[lstm_df['step_nums']==high_episode].vals.to_numpy()\n",
    "\n",
    "#     # ttest dependant\n",
    "#     ttest_pval.append(ttest_rel(a,b).pvalue)\n",
    "\n",
    "#     # wilcoxon dependant\n",
    "#     wilc_pval.append(wilcoxon(a,b).pvalue)"
   ]
  },
  {
   "cell_type": "markdown",
   "id": "f3876ddf",
   "metadata": {},
   "source": [
    "# Test convergence for LSTMs with different number of hidden units"
   ]
  },
  {
   "cell_type": "code",
   "execution_count": 22,
   "id": "f0edb7a2",
   "metadata": {},
   "outputs": [],
   "source": [
    "lstm48_file_name = 'lstm2_a2c_nh_48_lr_0_0001_n_u_p_0_5_ew_0_vw_0_5_dr_0_5_res_d_f_p_0_1_rt_con_a_4_n_300_te_50000_id_{}'\n",
    "lstm64_file_name = 'lstm2_a2c_nh_64_lr_0_0001_n_u_p_0_5_ew_0_vw_0_5_dr_0_5_res_d_f_p_0_1_rt_con_a_4_n_300_te_50000_id_{}'\n",
    "lstm80_file_name = 'lstm2_a2c_nh_80_lr_0_0001_n_u_p_0_5_ew_0_vw_0_5_dr_0_5_res_d_f_p_0_1_rt_con_a_4_n_300_te_50000_id_{}'\n",
    "lstm96_file_name = 'lstm2_a2c_nh_96_lr_0_0001_n_u_p_0_5_ew_0_vw_0_5_dr_0_5_res_d_f_p_0_1_rt_con_a_4_n_300_te_50000_id_{}'\n"
   ]
  },
  {
   "cell_type": "code",
   "execution_count": 23,
   "id": "f6652b0a",
   "metadata": {},
   "outputs": [],
   "source": [
    "lstm_data48 = get_tensorboard_data(lstm48_file_name, num_ids)\n",
    "lstm_data64 = get_tensorboard_data(lstm64_file_name, num_ids)\n",
    "lstm_data80 = get_tensorboard_data(lstm80_file_name, num_ids)\n",
    "lstm_data96 = get_tensorboard_data(lstm96_file_name, num_ids)"
   ]
  },
  {
   "cell_type": "code",
   "execution_count": 24,
   "id": "c821fee5",
   "metadata": {},
   "outputs": [],
   "source": [
    "lstm_data96 = get_tensorboard_data(lstm96_file_name, num_ids)"
   ]
  },
  {
   "cell_type": "code",
   "execution_count": 25,
   "id": "b1b05db2",
   "metadata": {},
   "outputs": [],
   "source": [
    "lstm48_df = pd.DataFrame(lstm_data48)\n",
    "lstm64_df = pd.DataFrame(lstm_data64)\n",
    "lstm80_df = pd.DataFrame(lstm_data80)\n",
    "lstm96_df = pd.DataFrame(lstm_data96)\n",
    "\n",
    "\n",
    "\n",
    "lstm48_means = lstm48_df.groupby('step_nums').mean().vals\n",
    "lstm64_means = lstm64_df.groupby('step_nums').mean().vals\n",
    "lstm80_means = lstm80_df.groupby('step_nums').mean().vals\n",
    "lstm96_means = lstm96_df.groupby('step_nums').mean().vals"
   ]
  },
  {
   "cell_type": "code",
   "execution_count": 26,
   "id": "0af7644d",
   "metadata": {},
   "outputs": [
    {
     "data": {
      "text/plain": [
       "<matplotlib.legend.Legend at 0x25f0408d1d0>"
      ]
     },
     "execution_count": 26,
     "metadata": {},
     "output_type": "execute_result"
    },
    {
     "data": {
      "image/png": "[encoded data removed]",
      "text/plain": [
       "<Figure size 640x480 with 1 Axes>"
      ]
     },
     "metadata": {},
     "output_type": "display_data"
    }
   ],
   "source": [
    "plt.plot(lstm48_means, alpha = 0.5)\n",
    "plt.plot(lstm64_means, alpha = 0.5)\n",
    "plt.plot(lstm80_means, alpha = 0.5)\n",
    "plt.plot(lstm96_means, alpha = 0.5)\n",
    "\n",
    "plt.legend([\"48\", \"64\", \"80\", \"96\"], loc =\"lower right\")\n"
   ]
  }
 ],
 "metadata": {
  "kernelspec": {
   "display_name": "Python 3 (ipykernel)",
   "language": "python",
   "name": "python3"
  },
  "language_info": {
   "codemirror_mode": {
    "name": "ipython",
    "version": 3
   },
   "file_extension": ".py",
   "mimetype": "text/x-python",
   "name": "python",
   "nbconvert_exporter": "python",
   "pygments_lexer": "ipython3",
   "version": "3.7.2"
  }
 },
 "nbformat": 4,
 "nbformat_minor": 5
}
