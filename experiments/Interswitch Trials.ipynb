{
 "cells": [
  {
   "cell_type": "code",
   "execution_count": 2,
   "id": "bef7a92a",
   "metadata": {},
   "outputs": [],
   "source": [
    "import os\n",
    "#move up in directory\n",
    "os.chdir('../')\n",
    "#os.getcwd()"
   ]
  },
  {
   "cell_type": "code",
   "execution_count": 3,
   "id": "0b0258b8",
   "metadata": {},
   "outputs": [
    {
     "data": {
      "text/plain": [
       "'C:\\\\Users\\\\deniz\\\\Desktop\\\\PhD\\\\p1_generalization'"
      ]
     },
     "execution_count": 3,
     "metadata": {},
     "output_type": "execute_result"
    }
   ],
   "source": [
    "os.getcwd()"
   ]
  },
  {
   "cell_type": "code",
   "execution_count": 4,
   "id": "52fa78b7",
   "metadata": {},
   "outputs": [],
   "source": [
    "import pickle\n",
    "import pandas as pd\n",
    "import numpy as np\n",
    "import matplotlib.pyplot as plt\n",
    "import seaborn as sns\n",
    "import pdb\n",
    "from pyarrow import feather\n",
    "from sklearn.metrics import mean_squared_error\n",
    "\n",
    "from helpers import dot2_"
   ]
  },
  {
   "cell_type": "markdown",
   "id": "9ea52a4e",
   "metadata": {},
   "source": [
    "# RNN agents"
   ]
  },
  {
   "cell_type": "code",
   "execution_count": 5,
   "id": "73e2244b",
   "metadata": {},
   "outputs": [],
   "source": [
    "num_ins = 30\n",
    "n_walks = 3\n",
    "\n",
    "isi = np.array([])\n",
    "\n",
    "for id_ in range(num_ins):\n",
    "    for walk in range(1, n_walks+1):\n",
    "        \n",
    "        d = pickle.load(open('data\\\\rnn_raw_data\\\\lstm2_a2c_nh_48_lr_0_0001_n_u_p_0_5_ew_0_vw_0_5_dr_0_5_res_d_f_p_0_1_rt_con_a_4_n_300_te_50000_id_{}_test_b_daw_p_{}'.format(id_, walk), 'rb'))\n",
    "        df = d.reset_index()\n",
    "        \n",
    "        is_switch =  df['is_switch'].to_numpy()\n",
    "        switch_indices = np.where(is_switch==1)[0]\n",
    "        isi = np.append(isi, switch_indices[1:] - switch_indices[:-1])\n"
   ]
  },
  {
   "cell_type": "code",
   "execution_count": 6,
   "id": "61640e57",
   "metadata": {},
   "outputs": [],
   "source": [
    "rnn_isi = isi"
   ]
  },
  {
   "cell_type": "markdown",
   "id": "683c1102",
   "metadata": {},
   "source": [
    "# Human agents"
   ]
  },
  {
   "cell_type": "code",
   "execution_count": 7,
   "id": "10de1d09",
   "metadata": {
    "scrolled": false
   },
   "outputs": [],
   "source": [
    "path_to_data = 'data/human_raw_data/'\n",
    "data_file = 'data_chakroun_wiehler.csv'\n",
    "human_df = pd.read_csv(open(path_to_data + data_file, 'rb'), index_col=0)\n",
    "isi = np.array([])\n"
   ]
  },
  {
   "cell_type": "code",
   "execution_count": 8,
   "id": "328869e6",
   "metadata": {},
   "outputs": [],
   "source": [
    "for sub in range(1,31):\n",
    "    temp_df = human_df[human_df['vp'].values==sub]\n",
    "    ch = temp_df.choice.to_numpy()\n",
    "    is_switch = np.array([int(ch[t] != ch[t-1]) for t in range(1, len(ch))])\n",
    "    switch_indices = np.where(is_switch==1)[0]\n",
    "    isi = np.append(isi, switch_indices[1:] - switch_indices[:-1])\n",
    "\n",
    "\n"
   ]
  },
  {
   "cell_type": "code",
   "execution_count": 9,
   "id": "e8daffe6",
   "metadata": {},
   "outputs": [],
   "source": [
    "human_isi = isi"
   ]
  },
  {
   "cell_type": "markdown",
   "id": "d6d98ac2",
   "metadata": {},
   "source": [
    "# Mixture Fitting"
   ]
  },
  {
   "cell_type": "code",
   "execution_count": 10,
   "id": "6a0817a6",
   "metadata": {},
   "outputs": [],
   "source": [
    "def discrete_exp_mix(x, K=2, plot_it=True, verbose=True):\n",
    "    # Function to fit a mixture of discrete exponential distributions to inter-event intervals\n",
    "    \n",
    "    if np.min(x) == 0:\n",
    "        x = x - 1\n",
    "        subtracted = True\n",
    "    else:\n",
    "        subtracted = False\n",
    "    \n",
    "    epsilon = 1e-6\n",
    "    max_iter = 1e4\n",
    "    \n",
    "    # Initialize parameters\n",
    "    betas = np.full((K,), np.nan)\n",
    "    weights = np.full((K,), np.nan)\n",
    "    t_hat = np.full((K * 2,), np.nan)\n",
    "    \n",
    "    # Find starting values by splitting up the data\n",
    "    bins = np.linspace(np.min(x), np.max(x), K + 1)\n",
    "    for k in range(K):\n",
    "        betas[k] = np.nanmean(x[(x >= bins[k]) & (x <= bins[k + 1])])\n",
    "        weights[k] = 1 / K  # start by assuming an equal mixture\n",
    "    \n",
    "    # Fill into the parameter vector\n",
    "    t_hat[0::2] = betas\n",
    "    t_hat[1::2] = weights\n",
    "    \n",
    "    # Define geometric pdf\n",
    "    def geo_f(x, beta):\n",
    "        return (1 / (1 + beta)) * ((beta / (1 + beta)) ** x)\n",
    "    \n",
    "    # Define weighted distributions formula\n",
    "    def w_f(x, theta):\n",
    "        return theta[1] * geo_f(x, theta[0])\n",
    "    \n",
    "    def z_labels(x, theta):\n",
    "        # Generate the Z labels for this iteration\n",
    "        K = len(theta) // 2\n",
    "        Z = np.full((K, len(x)), np.nan)\n",
    "        idx = np.array([0, 1])\n",
    "\n",
    "        for k in range(K):\n",
    "            Z[k, :] = w_f(x, theta[idx])\n",
    "            idx = idx + 2\n",
    "        \n",
    "        pdf = np.copy(Z)\n",
    "        G = np.sum(Z, axis=0)\n",
    "        G = G + 5e-324 # avoid divide by 0's\n",
    "        Z = Z / G\n",
    "\n",
    "        return Z, pdf\n",
    "    \n",
    "    if K != 1:\n",
    "        print('Starting EM')\n",
    "        exit_flag = True  # switches to false if we exit for a bad reason\n",
    "        i = 0\n",
    "        stop = False\n",
    "        while not stop:\n",
    "            # E-step: calculate the expectation of our observations | params\n",
    "            Z, pdf = z_labels(x, t_hat)\n",
    "            \n",
    "            # M-step: update the parameters\n",
    "            betas = t_hat[0::2]\n",
    "            weights = t_hat[1::2]\n",
    "            betas_n = np.full_like(betas, np.nan)\n",
    "            weights_n = np.full_like(weights, np.nan)\n",
    "            \n",
    "            # Update the betas\n",
    "            for k in range(K):\n",
    "                betas_n[k] = np.sum(Z[k, :] * x) / np.sum(Z[k, :])\n",
    "            \n",
    "            # Update the weights\n",
    "            weights_n = np.mean(Z, axis=1)\n",
    "            \n",
    "            # CHECK HERE that with weights\n",
    "            #pdb.set_trace()\n",
    "            \n",
    "            # Update theta estimates for the next round\n",
    "            last_t_hat = np.copy(t_hat)\n",
    "            t_hat[0::2] = betas_n\n",
    "            t_hat[1::2] = weights_n\n",
    "            \n",
    "            # Stop if we've reached our stopping criteria\n",
    "            stop = np.all(np.logical_and(1 - epsilon <= t_hat / last_t_hat, t_hat / last_t_hat <= 1 + epsilon))\n",
    "            stop = stop or i > max_iter\n",
    "            \n",
    "            if np.sum(np.isnan(t_hat)) > 0:\n",
    "                stop = True\n",
    "                exit_flag = False\n",
    "            \n",
    "            if verbose and round(i / 100) * 100 == i:\n",
    "                lik = np.sum(np.log(np.sum(pdf, axis=0)))\n",
    "                print(f'\\n Iter: {i}, Likelihood: {lik:.4f}')\n",
    "            \n",
    "            i += 1\n",
    "    else:\n",
    "        # If K == 1, ML estimate is the mean of observations\n",
    "        t_hat[0] = np.mean(x)\n",
    "        t_hat[1] = 1\n",
    "        exit_flag = True\n",
    "        i = 0\n",
    "    \n",
    "    if exit_flag:\n",
    "        print(f'\\n EM finished after {i} iterations')\n",
    "        \n",
    "        theta = t_hat\n",
    "        \n",
    "        # Get max likelihood mixture\n",
    "        Z, pdf = z_labels(x, theta)\n",
    "        Z_labels = np.argmax(Z, axis=0)\n",
    "        \n",
    "        # Likelihood\n",
    "        lik = np.sum(np.log(np.sum(pdf, axis=0)))\n",
    "        \n",
    "        if plot_it:\n",
    "\n",
    "            for beta in theta[0::2]:\n",
    "                plt.plot(np.arange(1, np.max(x)+1), geo_f(np.arange(1, np.max(x)+1), beta), linewidth=1, c = 'black', linestyle='dashed')\n",
    "\n",
    "            _, pdf_plot = z_labels(np.arange(1, np.max(x)+1), theta)\n",
    "            plt.plot(np.arange(1, np.max(x)+1), np.sum(pdf_plot, axis=0), linewidth=2, c = 'black')\n",
    "            _= plt.hist(x, weights = np.ones(len(x)) / len(x), bins = int(np.max(x)), color = 'grey')\n",
    "            \n",
    "            plt.show()\n",
    "        \n",
    "        # If we subtracted 1 to make the data start at 0 to fit the model,\n",
    "        # we need to correct the survival parameter for interpretability\n",
    "        if subtracted:\n",
    "            theta[0::2] = theta[0::2] + 1\n",
    "        \n",
    "        return theta, Z_labels, lik\n",
    "    else:\n",
    "        print('\\n EM failed to converge!')\n",
    "        return None\n",
    "    \n",
    "# Example usage:\n",
    "# theta, Z_labels, lik = discrete_exp_mix(x, K=2)\n"
   ]
  },
  {
   "cell_type": "markdown",
   "id": "275301b7",
   "metadata": {},
   "source": [
    "# RNN Mixture fitting"
   ]
  },
  {
   "cell_type": "code",
   "execution_count": 11,
   "id": "d3ab3ec6",
   "metadata": {
    "scrolled": true
   },
   "outputs": [
    {
     "name": "stdout",
     "output_type": "stream",
     "text": [
      "Starting EM\n",
      "\n",
      " Iter: 0, Likelihood: -12508.9404\n",
      "\n",
      " EM finished after 40 iterations\n"
     ]
    },
    {
     "data": {
      "image/png": "[encoded data removed]",
      "text/plain": [
       "<Figure size 640x480 with 1 Axes>"
      ]
     },
     "metadata": {},
     "output_type": "display_data"
    }
   ],
   "source": [
    "theta, Z_labels, lik = discrete_exp_mix(rnn_isi, K=2, plot_it=True, verbose=True)"
   ]
  },
  {
   "cell_type": "code",
   "execution_count": 12,
   "id": "4792e210",
   "metadata": {},
   "outputs": [
    {
     "data": {
      "text/plain": [
       "array([ 2.14955188,  0.78510556, 21.55167893,  0.21489444])"
      ]
     },
     "execution_count": 12,
     "metadata": {},
     "output_type": "execute_result"
    }
   ],
   "source": [
    "theta"
   ]
  },
  {
   "cell_type": "code",
   "execution_count": 13,
   "id": "1889b784",
   "metadata": {},
   "outputs": [
    {
     "name": "stdout",
     "output_type": "stream",
     "text": [
      "\n",
      " EM finished after 0 iterations\n",
      "Starting EM\n",
      "\n",
      " Iter: 0, Likelihood: -12508.9404\n",
      "\n",
      " EM finished after 40 iterations\n",
      "Starting EM\n",
      "\n",
      " Iter: 0, Likelihood: -13119.6242\n",
      "\n",
      " Iter: 100, Likelihood: -10650.6609\n",
      "\n",
      " EM finished after 111 iterations\n",
      "Starting EM\n",
      "\n",
      " Iter: 0, Likelihood: -13576.5442\n",
      "\n",
      " Iter: 100, Likelihood: -10650.6609\n",
      "\n",
      " EM finished after 124 iterations\n"
     ]
    }
   ],
   "source": [
    "lik = np.zeros(4)\n",
    "\n",
    "for k in range(1,5):\n",
    "    _,_, lik[k-1] = discrete_exp_mix(rnn_isi, K=k, plot_it=False, verbose=True)"
   ]
  },
  {
   "cell_type": "code",
   "execution_count": 17,
   "id": "f6dcea89",
   "metadata": {},
   "outputs": [
    {
     "data": {
      "text/plain": [
       "[<matplotlib.lines.Line2D at 0x164b2aebda0>]"
      ]
     },
     "execution_count": 17,
     "metadata": {},
     "output_type": "execute_result"
    },
    {
     "data": {
      "image/png": "[encoded data removed]",
      "text/plain": [
       "<Figure size 640x480 with 1 Axes>"
      ]
     },
     "metadata": {},
     "output_type": "display_data"
    }
   ],
   "source": [
    "plt.plot(range(1,5), lik)"
   ]
  },
  {
   "cell_type": "code",
   "execution_count": 18,
   "id": "3a6b27b0",
   "metadata": {
    "scrolled": false
   },
   "outputs": [
    {
     "name": "stdout",
     "output_type": "stream",
     "text": [
      "Starting EM\n",
      "\n",
      " Iter: 0, Likelihood: -7356.0203\n",
      "\n",
      " EM finished after 76 iterations\n"
     ]
    },
    {
     "data": {
      "image/png": "[encoded data removed]",
      "text/plain": [
       "<Figure size 640x480 with 1 Axes>"
      ]
     },
     "metadata": {},
     "output_type": "display_data"
    }
   ],
   "source": [
    "# Human\n",
    "theta, Z_labels, lik = discrete_exp_mix(human_isi, K=2, plot_it=True, verbose=True)"
   ]
  },
  {
   "cell_type": "code",
   "execution_count": 19,
   "id": "f1172c29",
   "metadata": {},
   "outputs": [
    {
     "ename": "NameError",
     "evalue": "name 'thetaa' is not defined",
     "output_type": "error",
     "traceback": [
      "\u001b[1;31m---------------------------------------------------------------------------\u001b[0m",
      "\u001b[1;31mNameError\u001b[0m                                 Traceback (most recent call last)",
      "\u001b[1;32m~\\AppData\\Local\\Temp\\ipykernel_8676\\889858423.py\u001b[0m in \u001b[0;36m<module>\u001b[1;34m\u001b[0m\n\u001b[1;32m----> 1\u001b[1;33m \u001b[0mthetaa\u001b[0m\u001b[1;33m\u001b[0m\u001b[1;33m\u001b[0m\u001b[0m\n\u001b[0m",
      "\u001b[1;31mNameError\u001b[0m: name 'thetaa' is not defined"
     ]
    }
   ],
   "source": [
    "thetaa"
   ]
  },
  {
   "cell_type": "code",
   "execution_count": 103,
   "id": "701f8b85",
   "metadata": {
    "scrolled": true
   },
   "outputs": [
    {
     "name": "stdout",
     "output_type": "stream",
     "text": [
      "\n",
      " EM finished after 0 iterations\n",
      "Starting EM\n",
      "\n",
      " Iter: 0, Likelihood: -7356.0203\n",
      "\n",
      " EM finished after 76 iterations\n",
      "Starting EM\n",
      "\n",
      " Iter: 0, Likelihood: -8011.6809\n",
      "\n",
      " Iter: 100, Likelihood: -6102.3061\n",
      "\n",
      " Iter: 200, Likelihood: -6102.1035\n",
      "\n",
      " Iter: 300, Likelihood: -6102.1035\n",
      "\n",
      " EM finished after 317 iterations\n",
      "Starting EM\n",
      "\n",
      " Iter: 0, Likelihood: -8345.0356\n",
      "\n",
      " Iter: 100, Likelihood: -6102.1049\n",
      "\n",
      " Iter: 200, Likelihood: -6102.1035\n",
      "\n",
      " EM finished after 248 iterations\n"
     ]
    }
   ],
   "source": [
    "lik = np.zeros(4)\n",
    "\n",
    "for k in range(1,5):\n",
    "    _,_, lik[k-1] = discrete_exp_mix(human_isi, K=k, plot_it=False, verbose=True)"
   ]
  },
  {
   "cell_type": "code",
   "execution_count": 105,
   "id": "d6b48914",
   "metadata": {},
   "outputs": [
    {
     "data": {
      "text/plain": [
       "[<matplotlib.lines.Line2D at 0x25d02af9898>]"
      ]
     },
     "execution_count": 105,
     "metadata": {},
     "output_type": "execute_result"
    },
    {
     "data": {
      "image/png": "[encoded data removed]",
      "text/plain": [
       "<Figure size 640x480 with 1 Axes>"
      ]
     },
     "metadata": {},
     "output_type": "display_data"
    }
   ],
   "source": [
    "plt.plot(range(1,5), lik)"
   ]
  }
 ],
 "metadata": {
  "kernelspec": {
   "display_name": "Python 3 (ipykernel)",
   "language": "python",
   "name": "python3"
  },
  "language_info": {
   "codemirror_mode": {
    "name": "ipython",
    "version": 3
   },
   "file_extension": ".py",
   "mimetype": "text/x-python",
   "name": "python",
   "nbconvert_exporter": "python",
   "pygments_lexer": "ipython3",
   "version": "3.7.2"
  }
 },
 "nbformat": 4,
 "nbformat_minor": 5
}
