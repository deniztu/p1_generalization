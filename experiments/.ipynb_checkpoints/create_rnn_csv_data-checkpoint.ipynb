{
 "cells": [
  {
   "cell_type": "code",
   "execution_count": 1,
   "id": "12d987b6",
   "metadata": {},
   "outputs": [],
   "source": [
    "import os \n",
    "import pickle\n",
    "import pandas as pd\n",
    "import numpy as np\n",
    "import pdb\n",
    "from pyarrow import feather\n",
    "\n",
    "#move up in directory\n",
    "os.chdir('../')\n"
   ]
  },
  {
   "cell_type": "code",
   "execution_count": 2,
   "id": "d71fc5e0",
   "metadata": {},
   "outputs": [
    {
     "data": {
      "text/plain": [
       "'C:\\\\Users\\\\Bio_Psych\\\\Desktop\\\\Deniz\\\\tf-cpu\\\\p1_generalization'"
      ]
     },
     "execution_count": 2,
     "metadata": {},
     "output_type": "execute_result"
    }
   ],
   "source": [
    "os.getcwd()"
   ]
  },
  {
   "cell_type": "code",
   "execution_count": 3,
   "id": "8cbc1fc7",
   "metadata": {},
   "outputs": [],
   "source": [
    "path_to_test_runs = 'data/rnn_raw_data/'"
   ]
  },
  {
   "cell_type": "code",
   "execution_count": 28,
   "id": "a6177afb",
   "metadata": {},
   "outputs": [],
   "source": [
    "num_ins = 1\n",
    "n_walks = 1\n",
    "\n",
    "\n",
    "# prepare arrays\n",
    "choice = np.array([])\n",
    "reward = np.array([])\n",
    "is_optimal = np.array([])\n",
    "rnn_id = np.array([])\n",
    "\n",
    "for id_ in range(num_ins):\n",
    "    for walk in range(1, n_walks+1):\n",
    "        \n",
    "        file_name = 'lstm2_a2c_nh_48_lr_0_0001_n_u_p_0_5_ew_0_vw_0_5_dr_0_5_res_d_f_p_0_1_rt_con_a_4_n_300_te_50000_id_{}_test_b_daw_p_{}'.format(id_, walk)\n",
    "\n",
    "        d = pickle.load(open(os.path.join(path_to_test_runs, file_name), 'rb'))\n",
    "        df = d.reset_index()\n",
    "\n",
    "        choice = np.append(choice, df.choice.to_numpy())\n",
    "        \n",
    "        pos_reward = [[p1,p2,p3,p4][ch] for ch, p1, p2, p3, p4 in zip(df['choice'], df['p_rew_1'], df['p_rew_2'], df['p_rew_3'], df['p_rew_4'])]\n",
    "\n",
    "        reward = np.append(reward, pos_reward)\n",
    "        is_optimal = np.append(is_optimal, df.accuracy.to_numpy())\n",
    "        rnn_id = np.append(rnn_id, df.rnn_id.to_numpy())"
   ]
  },
  {
   "cell_type": "code",
   "execution_count": 25,
   "id": "ebcbe382",
   "metadata": {},
   "outputs": [],
   "source": [
    "csv_df = pd.DataFrame({'id': rnn_id,\n",
    "                    'choice':choice,\n",
    "                    'reward':reward,\n",
    "                    'is_optimal':is_optimal,\n",
    "                   })\n"
   ]
  },
  {
   "cell_type": "code",
   "execution_count": 26,
   "id": "48ab4355",
   "metadata": {},
   "outputs": [],
   "source": [
    "csv_df.to_csv('rnn_data.csv', index = False)"
   ]
  }
 ],
 "metadata": {
  "kernelspec": {
   "display_name": "Python 3 (ipykernel)",
   "language": "python",
   "name": "python3"
  },
  "language_info": {
   "codemirror_mode": {
    "name": "ipython",
    "version": 3
   },
   "file_extension": ".py",
   "mimetype": "text/x-python",
   "name": "python",
   "nbconvert_exporter": "python",
   "pygments_lexer": "ipython3",
   "version": "3.7.2"
  }
 },
 "nbformat": 4,
 "nbformat_minor": 5
}
