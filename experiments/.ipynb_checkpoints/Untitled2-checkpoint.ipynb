{
 "cells": [
  {
   "cell_type": "code",
   "execution_count": 1,
   "id": "c592f37f",
   "metadata": {},
   "outputs": [],
   "source": [
    "import os \n",
    "import pickle\n",
    "import pandas as pd\n",
    "import numpy as np"
   ]
  },
  {
   "cell_type": "code",
   "execution_count": 2,
   "id": "97729aff",
   "metadata": {},
   "outputs": [],
   "source": [
    "#move up in directory\n",
    "os.chdir('../')"
   ]
  },
  {
   "cell_type": "code",
   "execution_count": 3,
   "id": "dfadadfb",
   "metadata": {},
   "outputs": [
    {
     "data": {
      "text/plain": [
       "'C:\\\\Users\\\\Bio_Psych\\\\Desktop\\\\Deniz\\\\tf-cpu\\\\p1_generalization'"
      ]
     },
     "execution_count": 3,
     "metadata": {},
     "output_type": "execute_result"
    }
   ],
   "source": [
    "os.getcwd()"
   ]
  },
  {
   "cell_type": "code",
   "execution_count": 5,
   "id": "f0ba2e28",
   "metadata": {},
   "outputs": [],
   "source": [
    "# number of rnn instances\n",
    "N_IDS = 30\n",
    "# Number of bandit walks\n",
    "N_WALKS = 3\n",
    "\n",
    "# path tp RNN data\n",
    "PATH_RNN_DATA ='data/rnn_raw_data/'\n",
    "RNN_FILE =  \"lstm2_a2c_nh_48_lr_0_0001_n_u_p_0_5_ew_0_vw_0_5_dr_0_5_res_d_f_p_0_1_rt_con_a_4_n_300_te_50000_id_{}_test_b_daw_p_{}\"\n",
    "file_path = PATH_RNN_DATA + RNN_FILE"
   ]
  },
  {
   "cell_type": "code",
   "execution_count": 10,
   "id": "1ae92dfd",
   "metadata": {},
   "outputs": [],
   "source": [
    "id_ = 0\n",
    "walk = 1\n",
    "\n",
    "d = []\n",
    "for p in game.players.passing():\n",
    "    d.append(\n",
    "        {\n",
    "            'id': df['rnn_id'].values,\n",
    "            'choice': df['choice'].values + 1,\n",
    "            'reward': np.multiply(chosen_reward,100)\n",
    "        }\n",
    "    )\n",
    "\n",
    "pd.DataFrame(d)\n",
    "\n",
    "#  for id_ in range(n_ids):\n",
    "#         for walk in range(1,n_walks+1):\n",
    "            \n",
    "d = pickle.load(open(file_path.format(id_, walk), 'rb'))\n",
    "df = d.reset_index()\n",
    "chosen_reward = [[p1,p2,p3,p4][ch] for ch, p1, p2, p3, p4 in zip(df['choice'], df['p_rew_1'], df['p_rew_2'], df['p_rew_3'], df['p_rew_4'])]\n",
    "\n",
    "#     return(cum_reg_lstm)"
   ]
  },
  {
   "cell_type": "code",
   "execution_count": 33,
   "id": "f9a9fb26",
   "metadata": {},
   "outputs": [
    {
     "data": {
      "text/plain": [
       "62.098289133101524"
      ]
     },
     "execution_count": 33,
     "metadata": {},
     "output_type": "execute_result"
    }
   ],
   "source": []
  }
 ],
 "metadata": {
  "kernelspec": {
   "display_name": "Python 3 (ipykernel)",
   "language": "python",
   "name": "python3"
  },
  "language_info": {
   "codemirror_mode": {
    "name": "ipython",
    "version": 3
   },
   "file_extension": ".py",
   "mimetype": "text/x-python",
   "name": "python",
   "nbconvert_exporter": "python",
   "pygments_lexer": "ipython3",
   "version": "3.7.2"
  }
 },
 "nbformat": 4,
 "nbformat_minor": 5
}
