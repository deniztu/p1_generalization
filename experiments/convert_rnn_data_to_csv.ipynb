{
 "cells": [
  {
   "cell_type": "code",
   "execution_count": 1,
   "id": "7cf8bdcb",
   "metadata": {},
   "outputs": [],
   "source": [
    "import os \n",
    "import pickle\n",
    "import pandas as pd\n",
    "import numpy as np"
   ]
  },
  {
   "cell_type": "code",
   "execution_count": 2,
   "id": "11da93e8",
   "metadata": {},
   "outputs": [],
   "source": [
    "#move up in directory\n",
    "os.chdir('../')"
   ]
  },
  {
   "cell_type": "code",
   "execution_count": 3,
   "id": "5e13fee9",
   "metadata": {},
   "outputs": [
    {
     "data": {
      "text/plain": [
       "'C:\\\\Users\\\\Bio_Psych\\\\Desktop\\\\Deniz\\\\tf-cpu\\\\p1_generalization'"
      ]
     },
     "execution_count": 3,
     "metadata": {},
     "output_type": "execute_result"
    }
   ],
   "source": [
    "os.getcwd()"
   ]
  },
  {
   "cell_type": "code",
   "execution_count": 5,
   "id": "4e3f1772",
   "metadata": {},
   "outputs": [],
   "source": [
    "# number of rnn instances\n",
    "N_IDS = 30\n",
    "# Number of bandit walks\n",
    "N_WALKS = 3\n",
    "\n",
    "# path tp RNN data\n",
    "PATH_RNN_DATA ='data/rnn_raw_data/'\n",
    "RNN_FILE =  \"lstm2_a2c_nh_48_lr_0_0001_n_u_p_0_5_ew_0_vw_0_5_dr_0_5_res_d_f_p_0_1_rt_con_a_4_n_300_te_50000_id_{}_test_b_daw_p_{}\"\n",
    "file_path = PATH_RNN_DATA + RNN_FILE"
   ]
  },
  {
   "cell_type": "code",
   "execution_count": 54,
   "id": "19258085",
   "metadata": {},
   "outputs": [],
   "source": [
    "id_ = 0\n",
    "walk = 1\n",
    "\n",
    "ids_ = []\n",
    "choice = []\n",
    "reward = []\n",
    "\n",
    "for id_ in range(N_IDS):\n",
    "    for walk in range(1,N_WALKS+1):\n",
    "\n",
    "        df = pickle.load(open(file_path.format(id_, walk), 'rb'))\n",
    "        df = df.reset_index()\n",
    "        chosen_reward = [[p1,p2,p3,p4][ch] for ch, p1, p2, p3, p4 in zip(df['choice'], df['p_rew_1'], df['p_rew_2'], df['p_rew_3'], df['p_rew_4'])]\n",
    "\n",
    "        ids_.extend(df['rnn_id'].values)\n",
    "        choice.extend( df['choice'].values + 1)\n",
    "        reward.extend(np.multiply(chosen_reward,100))\n",
    "\n",
    "\n",
    "\n",
    "\n",
    "            \n",
    "\n"
   ]
  },
  {
   "cell_type": "code",
   "execution_count": 57,
   "id": "5caa91d9",
   "metadata": {},
   "outputs": [],
   "source": [
    "df = pd.DataFrame({\n",
    "    'id':ids_,\n",
    "    'choice':choice, \n",
    "    'reward':reward\n",
    "})\n"
   ]
  },
  {
   "cell_type": "code",
   "execution_count": 59,
   "id": "15b85a8b",
   "metadata": {},
   "outputs": [],
   "source": [
    "df.to_csv('rnn_data.csv')"
   ]
  }
 ],
 "metadata": {
  "kernelspec": {
   "display_name": "Python 3 (ipykernel)",
   "language": "python",
   "name": "python3"
  },
  "language_info": {
   "codemirror_mode": {
    "name": "ipython",
    "version": 3
   },
   "file_extension": ".py",
   "mimetype": "text/x-python",
   "name": "python",
   "nbconvert_exporter": "python",
   "pygments_lexer": "ipython3",
   "version": "3.7.2"
  }
 },
 "nbformat": 4,
 "nbformat_minor": 5
}
