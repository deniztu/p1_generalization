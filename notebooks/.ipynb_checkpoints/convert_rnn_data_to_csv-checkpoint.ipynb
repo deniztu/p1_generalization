{
 "cells": [
  {
   "cell_type": "markdown",
   "id": "311f0ffa",
   "metadata": {},
   "source": [
    "notebook converts multiple rnn test data (pickled pandas.Dataframes) to a single csv file"
   ]
  },
  {
   "cell_type": "code",
   "execution_count": 1,
   "id": "7cf8bdcb",
   "metadata": {},
   "outputs": [],
   "source": [
    "import os \n",
    "import pickle\n",
    "import pandas as pd\n",
    "import numpy as np"
   ]
  },
  {
   "cell_type": "code",
   "execution_count": 2,
   "id": "11da93e8",
   "metadata": {},
   "outputs": [],
   "source": [
    "#move up in directory\n",
    "os.chdir('../')"
   ]
  },
  {
   "cell_type": "code",
   "execution_count": 3,
   "id": "5e13fee9",
   "metadata": {},
   "outputs": [
    {
     "data": {
      "text/plain": [
       "'C:\\\\Users\\\\deniz\\\\Desktop\\\\PhD\\\\p1_generalization'"
      ]
     },
     "execution_count": 3,
     "metadata": {},
     "output_type": "execute_result"
    }
   ],
   "source": [
    "os.getcwd()"
   ]
  },
  {
   "cell_type": "code",
   "execution_count": 4,
   "id": "4e3f1772",
   "metadata": {},
   "outputs": [],
   "source": [
    "# number of rnn instances\n",
    "N_IDS = 1#30\n",
    "# Number of bandit walks\n",
    "N_WALKS = 1#3\n",
    "\n",
    "# path tp RNN data\n",
    "PATH_RNN_DATA ='data/rnn_raw_data/'\n",
    "RNN_FILE =  \"lstm2_a2c_nh_48_lr_0_0001_n_u_p_0_5_ew_0_vw_0_5_dr_0_5_res_d_f_p_0_1_rt_con_a_4_n_300_te_50000_id_{}_test_b_daw_p_{}\"\n",
    "file_path = PATH_RNN_DATA + RNN_FILE"
   ]
  },
  {
   "cell_type": "code",
   "execution_count": 5,
   "id": "19258085",
   "metadata": {},
   "outputs": [
    {
     "name": "stdout",
     "output_type": "stream",
     "text": [
      "Index(['rnn_type', 'learning_algorithm', 'noise', 'train_sd', 'rnn_id',\n",
      "       'test_sd', 'run', 'reward_instance', 'bandit parameter', 'choice',\n",
      "       ...\n",
      "       'added_noise_rnn_state_43', 'added_noise_rnn_state_44',\n",
      "       'added_noise_rnn_state_45', 'added_noise_rnn_state_46',\n",
      "       'added_noise_rnn_state_47', 'added_noise_rnn_state_48',\n",
      "       'entropy_loss_weight', 'value_loss_weight', 'accuracy', 'is_switch'],\n",
      "      dtype='object', length=120)\n"
     ]
    }
   ],
   "source": [
    "id_ = 0\n",
    "walk = 1\n",
    "\n",
    "ids_ = []\n",
    "choice = []\n",
    "reward = []\n",
    "\n",
    "for id_ in range(N_IDS):\n",
    "    for walk in range(1,N_WALKS+1):\n",
    "\n",
    "        df = pickle.load(open(file_path.format(id_, walk), 'rb'))\n",
    "        df = df.reset_index()\n",
    "        print(df.columns)\n",
    "        chosen_reward = [[p1,p2,p3,p4][ch] for ch, p1, p2, p3, p4 in zip(df['choice'], df['p_rew_1'], df['p_rew_2'], df['p_rew_3'], df['p_rew_4'])]\n",
    "\n",
    "        ids_.extend(df['rnn_id'].values)\n",
    "        choice.extend( df['choice'].values + 1)\n",
    "        reward.extend(np.multiply(chosen_reward,100))\n",
    "\n",
    "\n",
    "\n",
    "\n",
    "            \n",
    "\n"
   ]
  },
  {
   "cell_type": "code",
   "execution_count": 57,
   "id": "5caa91d9",
   "metadata": {},
   "outputs": [],
   "source": [
    "df = pd.DataFrame({\n",
    "    'id':ids_,\n",
    "    'choice':choice, \n",
    "    'reward':reward\n",
    "})\n"
   ]
  },
  {
   "cell_type": "code",
   "execution_count": 59,
   "id": "15b85a8b",
   "metadata": {},
   "outputs": [],
   "source": [
    "df.to_csv('rnn_data.csv')"
   ]
  }
 ],
 "metadata": {
  "kernelspec": {
   "display_name": "Python 3 (ipykernel)",
   "language": "python",
   "name": "python3"
  },
  "language_info": {
   "codemirror_mode": {
    "name": "ipython",
    "version": 3
   },
   "file_extension": ".py",
   "mimetype": "text/x-python",
   "name": "python",
   "nbconvert_exporter": "python",
   "pygments_lexer": "ipython3",
   "version": "3.7.2"
  }
 },
 "nbformat": 4,
 "nbformat_minor": 5
}
