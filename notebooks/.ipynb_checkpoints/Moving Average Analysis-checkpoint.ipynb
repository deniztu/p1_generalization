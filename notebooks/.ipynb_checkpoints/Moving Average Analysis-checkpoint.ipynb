{
 "cells": [
  {
   "cell_type": "code",
   "execution_count": 1,
   "id": "f6e7e544",
   "metadata": {},
   "outputs": [],
   "source": [
    "import os \n",
    "import pickle\n",
    "import pandas as pd\n",
    "import numpy as np\n",
    "import matplotlib.pyplot as plt\n",
    "import seaborn as sns\n",
    "import pdb\n",
    "from pyarrow import feather\n",
    "from sklearn.decomposition import PCA\n",
    "from sklearn.preprocessing import MinMaxScaler\n",
    "import seaborn as sns\n",
    "from scipy import spatial\n",
    "from sklearn.linear_model import LogisticRegression\n",
    "from sklearn.model_selection import train_test_split\n",
    "from sklearn.metrics import roc_curve, roc_auc_score"
   ]
  },
  {
   "cell_type": "code",
   "execution_count": 2,
   "id": "5f5d5ac3",
   "metadata": {},
   "outputs": [],
   "source": [
    "#move up in directory\n",
    "os.chdir('../')\n",
    "\n",
    "from helpers import dot2_"
   ]
  },
  {
   "cell_type": "code",
   "execution_count": 3,
   "id": "d642a217",
   "metadata": {
    "scrolled": true
   },
   "outputs": [
    {
     "data": {
      "text/plain": [
       "'C:\\\\Users\\\\Bio_Psych\\\\Desktop\\\\Deniz\\\\tf-cpu\\\\p1_generalization'"
      ]
     },
     "execution_count": 3,
     "metadata": {},
     "output_type": "execute_result"
    }
   ],
   "source": [
    "os.getcwd()"
   ]
  },
  {
   "cell_type": "code",
   "execution_count": 4,
   "id": "93202ec4",
   "metadata": {},
   "outputs": [],
   "source": [
    "#for id_ in range(num_ins):\n",
    "id_ = 1\n",
    "d = pickle.load(open('data\\\\rnn_raw_data\\\\lstm2_a2c_nh_48_lr_0_0001_n_u_p_0_5_ew_lin_vw_0_5_dr_0_5_res_d_f_p_0_1_rt_con_a_4_n_300_te_50000_id_{}_test_b_daw_p_3'.format(id_), 'rb'))\n",
    "df = d.reset_index()"
   ]
  },
  {
   "cell_type": "code",
   "execution_count": 6,
   "id": "62430cad",
   "metadata": {},
   "outputs": [],
   "source": [
    "# calculate moving average\n",
    "def movingaverage(values, window):\n",
    "    weights = np.repeat(1.0, window)/window\n",
    "    smas = np.convolve(values, weights, 'valid')"
   ]
  },
  {
   "cell_type": "code",
   "execution_count": 7,
   "id": "a49b6233",
   "metadata": {},
   "outputs": [
    {
     "data": {
      "text/plain": [
       "0     -0.331143\n",
       "1     -0.174808\n",
       "2      0.223074\n",
       "3      0.207247\n",
       "4      0.181580\n",
       "         ...   \n",
       "295   -0.029266\n",
       "296    0.062842\n",
       "297    0.143565\n",
       "298    0.143114\n",
       "299    0.094032\n",
       "Name: reward, Length: 300, dtype: float64"
      ]
     },
     "execution_count": 7,
     "metadata": {},
     "output_type": "execute_result"
    }
   ],
   "source": [
    "df['reward']"
   ]
  }
 ],
 "metadata": {
  "kernelspec": {
   "display_name": "Python 3 (ipykernel)",
   "language": "python",
   "name": "python3"
  },
  "language_info": {
   "codemirror_mode": {
    "name": "ipython",
    "version": 3
   },
   "file_extension": ".py",
   "mimetype": "text/x-python",
   "name": "python",
   "nbconvert_exporter": "python",
   "pygments_lexer": "ipython3",
   "version": "3.7.2"
  }
 },
 "nbformat": 4,
 "nbformat_minor": 5
}
